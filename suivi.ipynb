{
 "cells": [
  {
   "cell_type": "markdown",
   "id": "693472c9",
   "metadata": {},
   "source": [
    "| # | Étape                           | Objectif                                                                                               | Ressources (Docs + Vidéos)                                                                                                                                                                 | Statut |\n",
    "| - | ------------------------------- | ------------------------------------------------------------------------------------------------------ | ------------------------------------------------------------------------------------------------------------------------------------------------------------------------------------------ | ------ |\n",
    "| 1 | Bases FastAPI                   | Créer endpoint REST, gérer JSON, Swagger                                                               | [FastAPI Doc](https://fastapi.tiangolo.com/), [Crash Course YouTube](https://www.youtube.com/watch?v=0sOvCWFmrtA)                                                                          | ☐      |\n",
    "| 2 | Hugging Face Transformers       | Utiliser modèle pré-entraîné `distilbert-base-uncased-finetuned-sst-2-english` pour analyser sentiment | [Pipeline Sentiment](https://huggingface.co/docs/transformers/main/en/task_summary#sentiment-analysis), [Video](https://www.youtube.com/watch?v=5vcj8kSwBCY)                               | ☐      |\n",
    "| 3 | Intégration FastAPI + HF        | Renvoyer JSON dynamique avec label + score                                                             | [FastAPI Testing](https://fastapi.tiangolo.com/tutorial/testing/)                                                                                                                          | ☐      |\n",
    "| 4 | Conteneurisation Docker         | Créer image Docker, lancer API portable                                                                | [Docker Docs](https://docs.docker.com/get-started/), [Video FR](https://www.youtube.com/watch?v=3c-iBn73dDE), [FastAPI + Docker](https://www.youtube.com/watch?v=0sQhF9sN7zw)              | ☐      |\n",
    "| 5 | Déploiement Hugging Face Spaces | Rendre API publique via Docker                                                                         | [Spaces Overview](https://huggingface.co/docs/hub/spaces-overview), [Docker SDK](https://huggingface.co/docs/hub/spaces-sdks-docker), [Video](https://www.youtube.com/watch?v=6NoDYFhXs5g) | ☐      |\n",
    "| 6 | Interface Gradio                | Mini-UI pour tester API                                                                                | [Gradio Doc](https://www.gradio.app/docs), [Spaces Gradio](https://huggingface.co/docs/hub/spaces-sdks-gradio), [Video](https://www.youtube.com/watch?v=dXjKh66BR2o)                       | ☐      |\n",
    "| 7 | Tests unitaires                 | Vérifier API, gérer erreurs                                                                            | [Pytest Doc](https://docs.pytest.org/), [Video](https://www.youtube.com/watch?v=cHYq1MRoyI0)                                                                                               | ☐      |\n",
    "| 8 | CI/CD GitHub Actions            | Automatiser tests + déploiement                                                                        | [GitHub Actions Doc](https://docs.github.com/en/actions), [Exemple FastAPI](https://testdriven.io/blog/fastapi-github-actions/), [Video](https://www.youtube.com/watch?v=R8_veQiYBjI)      | ☐      |\n",
    "| 9 | Mini-benchmark                  | Mesurer latence et score confiance                                                                     | [Pipeline inference](https://huggingface.co/docs/transformers/main/en/pipeline_inference)                                                                                                  | ☐      |\n"
   ]
  },
  {
   "cell_type": "markdown",
   "id": "4755c5f6",
   "metadata": {},
   "source": []
  }
 ],
 "metadata": {
  "language_info": {
   "name": "python"
  }
 },
 "nbformat": 4,
 "nbformat_minor": 5
}
